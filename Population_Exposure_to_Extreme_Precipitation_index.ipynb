{
 "cells": [
  {
   "cell_type": "code",
   "execution_count": null,
   "id": "ba7a0d2c-6a88-4c78-9408-933d0e063a5e",
   "metadata": {},
   "outputs": [],
   "source": [
    "#导入库\n",
    "import numpy as np          # 数值计算库，处理数组\n",
    "import xarray as xr         # 处理NetCDF格式数据\n",
    "import rasterio             # 读取地理栅格数据（如.tif）\n",
    "from scipy.interpolate import griddata  # 空间插值工具\n",
    "from datetime import datetime          # 处理时间信息"
   ]
  },
  {
   "cell_type": "code",
   "execution_count": null,
   "id": "6c826cb8-2059-420c-9d7b-bce21e3f9802",
   "metadata": {},
   "outputs": [],
   "source": [
    "#读取极端降水数据\n",
    "extreme_pr_path = 'D:\\\\CMIP6extreme\\\\00 - CN051-2022\\\\extreme_pr\\\\extreme_pr_index_1961_2022.nc'\n",
    "extreme_pr_ds = xr.open_dataset(extreme_pr_path)  # 打开NetCDF文件\n",
    "\n",
    "lat = extreme_pr_ds['lat'].values  # 获取纬度数组\n",
    "lon = extreme_pr_ds['lon'].values  # 获取经度数组"
   ]
  },
  {
   "cell_type": "code",
   "execution_count": null,
   "id": "571f55d0-7469-4b13-9e41-1096d6398052",
   "metadata": {},
   "outputs": [],
   "source": [
    "#定义中国区域范围，一个包含中国的矩形\n",
    "lat_min, lat_max = 15, 55  # 纬度范围\n",
    "lon_min, lon_max = 70, 140 # 经度范围"
   ]
  },
  {
   "cell_type": "code",
   "execution_count": null,
   "id": "43b17ee0-38e8-4a43-ab41-701770c57728",
   "metadata": {},
   "outputs": [],
   "source": [
    "#人口数据读取函数\n",
    "def read_and_clip_population_data(year):\n",
    "    # 构建人口数据文件路径（LandScan数据）\n",
    "    pop_path = f'D:\\\\CMIP6extreme\\\\00 - CN051-2022\\\\extreme_pr\\\\人口暴露\\\\landscan-global-{year}-colorized.tif'\n",
    "    \n",
    "    with rasterio.open(pop_path) as src:  # 打开栅格文件\n",
    "        pop_data = src.read(1, masked=True)  # 读取第一个波段，处理缺失值\n",
    "        transform = src.transform  # 获取地理变换参数\n",
    "        \n",
    "        # 生成经纬度网格\n",
    "        pop_lon, pop_lat = np.meshgrid(\n",
    "            np.arange(pop_data.shape[1]) * transform[0] + transform[2],\n",
    "            np.arange(pop_data.shape[0]) * transform[4] + transform[5]\n",
    "        )\n",
    "\n",
    "        # 裁剪到中国范围\n",
    "        mask = (pop_lat >= lat_min) & (pop_lat <= lat_max) & (pop_lon >= lon_min) & (pop_lon <= lon_max)\n",
    "        pop_lat = pop_lat[mask]  # 筛选纬度\n",
    "        pop_lon = pop_lon[mask]  # 筛选经度\n",
    "        pop_data = pop_data[mask]  # 筛选人口数据\n",
    "    \n",
    "    return pop_lat, pop_lon, pop_data  # 返回筛选后的经纬度和人口数据\n",
    "\n",
    "#地理变换参数（transform）包含6个参数的仿射变换矩阵\n",
    "# | a  b  c |\n",
    "# | d  e  f |\n",
    "# | 0  0  1 |\n",
    "\n",
    "# a（transform[0]）：东西方向像素分辨率（单位：度/像素）\n",
    "# e（transform[4]）：南北方向像素分辨率（通常为负值，因为纬度向下递减）\n",
    "# c（transform[2]）：左上角像素中心点的经度\n",
    "# f（transform[5]）：左上角像素中心点的纬度\n",
    "\n",
    "# 生成列坐标（经度）    \n",
    "# np.arange(pop_data.shape[1]) * transform[0] + transform[2]\n",
    "# pop_data.shape[1]：栅格的列数（东西方向像素数量）\n",
    "# np.arange(pop_data.shape[1])：生成列索引数组 [0, 1, 2, ..., cols-1]\n",
    "# 计算逻辑：\n",
    "# 每列的经度 = 列索引 × 经度分辨率 + 左上角起始经度\n",
    "\n",
    "# 生成行坐标（纬度）\n",
    "# np.arange(pop_data.shape[0]) * transform[4] + transform[5]\n",
    "# pop_data.shape[0]：栅格的行数（南北方向像素数量）\n",
    "# np.arange(pop_data.shape[0])：生成行索引数组 [0, 1, 2, ..., rows-1]\n",
    "# 注意：transform[4]通常为负数，因为纬度值从上到下递减\n",
    "# 计算逻辑：\n",
    "# 每行的纬度 = 行索引 × 纬度分辨率 + 左上角起始纬度"
   ]
  },
  {
   "cell_type": "code",
   "execution_count": null,
   "id": "081a2aef-83c7-463b-a905-a2c02c1fc460",
   "metadata": {},
   "outputs": [],
   "source": [
    "#插值函数\n",
    "def interpolate_population_to_precip_grid(pop_lat, pop_lon, pop_data, precip_lat, precip_lon):\n",
    "    # 将人口数据插值到极端降水数据的网格上\n",
    "    points = np.array([pop_lon.flatten(), pop_lat.flatten()]).T  # 原始点坐标， .flatten()将数据平整为一维\n",
    "    grid_x, grid_y = np.meshgrid(precip_lon, precip_lat)  # 目标网格\n",
    "    \n",
    "    # 执行插值（双线性插值）\n",
    "    grid_data = griddata(\n",
    "        points,                # 原始数据点坐标\n",
    "        pop_data.flatten(),    # 原始数据值\n",
    "        (grid_x, grid_y),      # 目标网格\n",
    "        method='linear'        # 插值方法：线性\n",
    "    )\n",
    "    \n",
    "    return grid_data  # 返回网格化的人口数据\n"
   ]
  },
  {
   "cell_type": "code",
   "execution_count": null,
   "id": "da97cae4-2c99-4db3-a5f5-e1bb76d1dc21",
   "metadata": {},
   "outputs": [],
   "source": [
    "#初始化结果容器\n",
    "# 定义计算年份范围（2000-2022）\n",
    "years = range(2000, 2023)\n",
    "\n",
    "# 定义要计算的极端降水指标\n",
    "exposure_indices = ['max_1_day_precip', 'max_5_day_precip', 'wetdays_20mm', \n",
    "                   'wetdays_10mm', 'max_consec_wet_days', 'max_consec_dry_days', \n",
    "                   'daily_pr_intensity', 'prcptot']\n",
    "\n",
    "# 创建存储结果的字典，每个指标对应三维数组（年份×纬度×经度）\n",
    "pop_exposure = {index: np.zeros((len(years), len(lat), len(lon)), dtype=np.float32) \n",
    "               for index in exposure_indices}\n"
   ]
  },
  {
   "cell_type": "code",
   "execution_count": null,
   "id": "68b4b724-8ff5-4407-a485-d017cc89474a",
   "metadata": {},
   "outputs": [],
   "source": [
    "#主处理循环\n",
    "for idx, year in enumerate(years):\n",
    "    print(f'Processing year: {year}')\n",
    "    \n",
    "    # 读取并裁剪人口数据\n",
    "    pop_lat, pop_lon, pop_data = read_and_clip_population_data(year)\n",
    "    \n",
    "    # 将人口数据插值到降水数据网格\n",
    "    interpolated_pop = interpolate_population_to_precip_grid(pop_lat, pop_lon, pop_data, lat, lon)\n",
    "    \n",
    "    # 对每个极端降水指数进行计算\n",
    "    for index in exposure_indices:\n",
    "        # 读取当年的降水数据\n",
    "        precip_data = extreme_pr_ds[index].sel(time=str(year)).values.astype(np.float32)\n",
    "        \n",
    "        # 计算暴露量：降水指数 × 对应位置的人口\n",
    "        pop_exposure[index][idx, :, :] = precip_data * interpolated_pop\n"
   ]
  },
  {
   "cell_type": "code",
   "execution_count": null,
   "id": "4d08dfb5-45d8-4046-b839-70bcc493667c",
   "metadata": {},
   "outputs": [],
   "source": [
    "#保存结果\n",
    "output_filename = 'population_exposure_2000_2022.nc'\n",
    "\n",
    "# 创建Xarray数据集\n",
    "ds = xr.Dataset(\n",
    "    {index: (('time', 'lat', 'lon'), pop_exposure[index]) for index in exposure_indices},\n",
    "    coords={\n",
    "        'time': years,  # 时间坐标\n",
    "        'lat': lat,     # 纬度坐标\n",
    "        'lon': lon      # 经度坐标\n",
    "    }\n",
    ")\n",
    "\n",
    "# 设置元数据\n",
    "ds.time.attrs['units'] = 'year'\n",
    "ds.lat.attrs['units'] = 'degrees_north'\n",
    "ds.lon.attrs['units'] = 'degrees_east'\n",
    "for index in exposure_indices:\n",
    "    ds[index].attrs['units'] = 'people_exposed'\n",
    "\n",
    "# 全局属性\n",
    "ds.attrs['title'] = 'Population Exposure to Extreme Precipitation (2000-2022)'\n",
    "ds.attrs['history'] = f'Created {datetime.utcnow().isoformat()}'\n",
    "\n",
    "# 保存为NetCDF文件\n",
    "ds.to_netcdf(output_filename)\n",
    "print(f'Population exposure data has been saved to {output_filename}')\n"
   ]
  },
  {
   "cell_type": "code",
   "execution_count": null,
   "id": "59b8658d-b454-4786-aeee-4d5a880c5e94",
   "metadata": {},
   "outputs": [],
   "source": []
  },
  {
   "cell_type": "code",
   "execution_count": null,
   "id": "4b43b30c-b2fd-4f8d-ac93-4668ce4684e9",
   "metadata": {},
   "outputs": [],
   "source": []
  },
  {
   "cell_type": "code",
   "execution_count": null,
   "id": "9de890f7-a932-4242-bb8a-864dcb1d0a66",
   "metadata": {},
   "outputs": [],
   "source": []
  }
 ],
 "metadata": {
  "kernelspec": {
   "display_name": "Python 3 (ipykernel)",
   "language": "python",
   "name": "python3"
  },
  "language_info": {
   "codemirror_mode": {
    "name": "ipython",
    "version": 3
   },
   "file_extension": ".py",
   "mimetype": "text/x-python",
   "name": "python",
   "nbconvert_exporter": "python",
   "pygments_lexer": "ipython3",
   "version": "3.9.21"
  }
 },
 "nbformat": 4,
 "nbformat_minor": 5
}
